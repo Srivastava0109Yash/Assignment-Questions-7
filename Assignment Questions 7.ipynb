{
 "cells": [
  {
   "cell_type": "markdown",
   "id": "4e6553ad",
   "metadata": {},
   "source": [
    "## Q1."
   ]
  },
  {
   "cell_type": "code",
   "execution_count": 1,
   "id": "0ece034b",
   "metadata": {},
   "outputs": [
    {
     "data": {
      "text/plain": [
       "True"
      ]
     },
     "execution_count": 1,
     "metadata": {},
     "output_type": "execute_result"
    }
   ],
   "source": [
    "def is_isomorphic(s,t):\n",
    "    \n",
    "    s_map={}\n",
    "    t_map={}\n",
    "    \n",
    "    if len(s)!=len(t):\n",
    "        return False\n",
    "    \n",
    "    for s_char,t_char in zip(s,t):\n",
    "        if s_char in s_map:\n",
    "            if s_map[s_char]!=t_char:\n",
    "                return False\n",
    "        else:\n",
    "            s_map[s_char]=t_char\n",
    "            \n",
    "        if t_char in t_map:\n",
    "            if t_map[t_char]!=s_char:\n",
    "                return False\n",
    "        else:\n",
    "            t_map[t_char]=s_char\n",
    "            \n",
    "    return True\n",
    "\n",
    "s='egg'\n",
    "t='add'\n",
    "is_isomorphic(s,t)"
   ]
  },
  {
   "cell_type": "markdown",
   "id": "19bb5f60",
   "metadata": {},
   "source": [
    "## Q2."
   ]
  },
  {
   "cell_type": "code",
   "execution_count": 5,
   "id": "31aff42d",
   "metadata": {},
   "outputs": [
    {
     "data": {
      "text/plain": [
       "True"
      ]
     },
     "execution_count": 5,
     "metadata": {},
     "output_type": "execute_result"
    }
   ],
   "source": [
    "def is_strobogrammatic(n):\n",
    "    \n",
    "    valid_pairs={'0':'0','1':'1','6':'9','9':'6','8':'8'}\n",
    "    left=0\n",
    "    right=len(n)-1\n",
    "    \n",
    "    while left<=right:\n",
    "        if n[left] not in valid_pairs or n[right]!= valid_pairs[n[left]]:\n",
    "            return False\n",
    "        left+=1\n",
    "        right-=1\n",
    "    return True\n",
    "\n",
    "n='69'\n",
    "is_strobogrammatic(n)"
   ]
  },
  {
   "cell_type": "markdown",
   "id": "22eead8b",
   "metadata": {},
   "source": [
    "## Q3."
   ]
  },
  {
   "cell_type": "code",
   "execution_count": 7,
   "id": "1fb5de6f",
   "metadata": {},
   "outputs": [
    {
     "data": {
      "text/plain": [
       "'134'"
      ]
     },
     "execution_count": 7,
     "metadata": {},
     "output_type": "execute_result"
    }
   ],
   "source": [
    "def addStrings(num1, num2):\n",
    "    i, j = len(num1) - 1, len(num2) - 1\n",
    "    carry = 0\n",
    "    result = \"\"\n",
    "\n",
    "    while i >= 0 or j >= 0:\n",
    "        digit1 = int(num1[i]) if i >= 0 else 0\n",
    "        digit2 = int(num2[j]) if j >= 0 else 0\n",
    "\n",
    "        summ = digit1 + digit2 + carry\n",
    "        carry = summ // 10\n",
    "        digit = summ % 10\n",
    "\n",
    "        result = str(digit) + result\n",
    "\n",
    "        i -= 1\n",
    "        j -= 1\n",
    "\n",
    "    if carry != 0:\n",
    "        result = str(carry) + result\n",
    "\n",
    "    return result\n",
    "\n",
    "num1='11'\n",
    "num2='123'\n",
    "addStrings(num1,num2)"
   ]
  },
  {
   "cell_type": "markdown",
   "id": "6e756e5b",
   "metadata": {},
   "source": [
    "## Q4."
   ]
  },
  {
   "cell_type": "code",
   "execution_count": 32,
   "id": "06f33500",
   "metadata": {},
   "outputs": [
    {
     "data": {
      "text/plain": [
       "\"s'teL ekat edoCteeL tsetnoc\""
      ]
     },
     "execution_count": 32,
     "metadata": {},
     "output_type": "execute_result"
    }
   ],
   "source": [
    "def reverse_char(string):\n",
    "    a=[i[::-1] for i in string.split()]\n",
    "    b=\" \".join(a)\n",
    "    return b\n",
    "        \n",
    "s=\"Let's take LeetCode contest\"\n",
    "reverse_char(s)"
   ]
  },
  {
   "cell_type": "markdown",
   "id": "1ae27f10",
   "metadata": {},
   "source": [
    "## Q5."
   ]
  },
  {
   "cell_type": "code",
   "execution_count": 56,
   "id": "44fb9527",
   "metadata": {},
   "outputs": [
    {
     "data": {
      "text/plain": [
       "'bacdfeg'"
      ]
     },
     "execution_count": 56,
     "metadata": {},
     "output_type": "execute_result"
    }
   ],
   "source": [
    "def reverseString(s, k):\n",
    "    s = list(s)\n",
    "    n = len(s)\n",
    "\n",
    "    for i in range(0, n, 2 * k):\n",
    "        start=i\n",
    "        end=min(i + k, n)\n",
    "        s[start:end]=s[start:end][::-1]\n",
    "\n",
    "    return ''.join(s)\n",
    "\n",
    "s = \"abcdefg\"\n",
    "k = 2\n",
    "reverseString(s, k)"
   ]
  },
  {
   "cell_type": "markdown",
   "id": "37f3b2b8",
   "metadata": {},
   "source": [
    "## Q6."
   ]
  },
  {
   "cell_type": "code",
   "execution_count": 45,
   "id": "16f7e338",
   "metadata": {},
   "outputs": [
    {
     "data": {
      "text/plain": [
       "True"
      ]
     },
     "execution_count": 45,
     "metadata": {},
     "output_type": "execute_result"
    }
   ],
   "source": [
    "def printRotatedStrings(s,goal):\n",
    "    n = len(s)\n",
    "    rotated=[s[i:] + s[:i] for i in range(n)]\n",
    "    for i in rotated:\n",
    "        if i==goal:\n",
    "            return True\n",
    "    return False\n",
    "\n",
    "s=\"abcde\"\n",
    "goal=\"cdeab\"\n",
    "printRotatedStrings(s,goal)"
   ]
  },
  {
   "cell_type": "markdown",
   "id": "8f327ee3",
   "metadata": {},
   "source": [
    "## Q7."
   ]
  },
  {
   "cell_type": "code",
   "execution_count": 58,
   "id": "3921bc93",
   "metadata": {},
   "outputs": [
    {
     "name": "stdout",
     "output_type": "stream",
     "text": [
      "True\n"
     ]
    }
   ],
   "source": [
    "def process_String(s):\n",
    "    stack=[]\n",
    "    \n",
    "    for i in s:\n",
    "        if i != \"#\":\n",
    "            stack.append(i)\n",
    "        elif stack:\n",
    "            stack.pop()\n",
    "            \n",
    "    return \"\".join(stack)\n",
    "\n",
    "def compare(s,t):\n",
    "    processed_s=process_String(s)\n",
    "    processed_t=process_String(t)\n",
    "    return processed_s==processed_t\n",
    "    \n",
    "s = \"ab#c\"\n",
    "t = \"ad#c\"\n",
    "print(compare(s, t))   "
   ]
  },
  {
   "cell_type": "markdown",
   "id": "4c73dec5",
   "metadata": {},
   "source": [
    "## Q8."
   ]
  },
  {
   "cell_type": "code",
   "execution_count": 61,
   "id": "89f5e0c0",
   "metadata": {},
   "outputs": [
    {
     "name": "stdout",
     "output_type": "stream",
     "text": [
      "True\n"
     ]
    }
   ],
   "source": [
    "def checkStraightLine(coordinates):\n",
    "    if len(coordinates) < 3:\n",
    "        return True\n",
    "\n",
    "    x1, y1 = coordinates[0]\n",
    "    x2, y2 = coordinates[1]\n",
    "\n",
    "    for i in range(2, len(coordinates)):\n",
    "        xi, yi = coordinates[i]\n",
    "\n",
    "        if (y2 - y1) * (xi - x1) != (yi - y1) * (x2 - x1):\n",
    "            return False\n",
    "\n",
    "    return True\n",
    "coordinates = [[1, 2], [2, 3],\n",
    "               [3, 4], [4, 5]]\n",
    "result = checkStraightLine(coordinates)\n",
    "print(result)"
   ]
  },
  {
   "cell_type": "code",
   "execution_count": null,
   "id": "482ec3cd",
   "metadata": {},
   "outputs": [],
   "source": []
  }
 ],
 "metadata": {
  "kernelspec": {
   "display_name": "Python 3 (ipykernel)",
   "language": "python",
   "name": "python3"
  },
  "language_info": {
   "codemirror_mode": {
    "name": "ipython",
    "version": 3
   },
   "file_extension": ".py",
   "mimetype": "text/x-python",
   "name": "python",
   "nbconvert_exporter": "python",
   "pygments_lexer": "ipython3",
   "version": "3.9.7"
  }
 },
 "nbformat": 4,
 "nbformat_minor": 5
}
